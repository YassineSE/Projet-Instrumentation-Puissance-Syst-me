{
 "cells": [
  {
   "cell_type": "code",
   "execution_count": 1,
   "id": "4d0aad7b-1861-4592-89b1-749564fedd94",
   "metadata": {},
   "outputs": [],
   "source": [
    "import numpy as np\n",
    "import matplotlib.pyplot as plt\n",
    "from sklearn.linear_model import LinearRegression"
   ]
  },
  {
   "cell_type": "markdown",
   "id": "3e1e231b-067b-465a-a29c-c8d76f821bd3",
   "metadata": {},
   "source": [
    "## Equation de la Température \n",
    "$$C \\, d\\dfrac{T(t)}{dt} = P_{app}(t) - P_{pertes}$$\n",
    "$$P_{pertes} = h.A.(T(t) - T_{amb})$$\n",
    "$$\\Longrightarrow C \\, d\\dfrac{T(t)}{dt} = P_{app}(t) - h.A.(T(t) - T_{amb})$$"
   ]
  },
  {
   "cell_type": "markdown",
   "id": "fc543a83-4651-42d3-83bb-c27233572a01",
   "metadata": {},
   "source": [
    "## Méthode d'Euler:\n",
    "$$T_{n+1} = T_n + \\Delta t (\\dfrac{P_{app} - h.A(T_n - T_{amb})}{C})$$\n",
    "$$ \\Longrightarrow T_{n+1} = T_n + \\Delta t (\\dfrac{\\dfrac{U_0^2}{R(T_n)} - h.A(T_n - T_{amb})}{C})$$"
   ]
  },
  {
   "cell_type": "markdown",
   "id": "f86885e5-805c-4b01-b91a-99e3df6b6ac0",
   "metadata": {},
   "source": [
    "# Calcul de U avec PID\n",
    "$$U = \\sqrt{\\dfrac{\\alpha . (T_n - T_0)}{R(T_n)}}$$\n",
    "$$\\alpha = 0.115$$"
   ]
  }
 ],
 "metadata": {
  "kernelspec": {
   "display_name": "Python 3 (ipykernel)",
   "language": "python",
   "name": "python3"
  },
  "language_info": {
   "codemirror_mode": {
    "name": "ipython",
    "version": 3
   },
   "file_extension": ".py",
   "mimetype": "text/x-python",
   "name": "python",
   "nbconvert_exporter": "python",
   "pygments_lexer": "ipython3",
   "version": "3.12.3"
  }
 },
 "nbformat": 4,
 "nbformat_minor": 5
}
